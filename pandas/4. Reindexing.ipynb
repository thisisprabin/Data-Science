{
 "cells": [
  {
   "cell_type": "code",
   "execution_count": 16,
   "metadata": {
    "collapsed": true
   },
   "outputs": [],
   "source": [
    "import numpy as np\n",
    "from pandas import DataFrame, Series\n",
    "import pandas as pd\n",
    "import random"
   ]
  },
  {
   "cell_type": "code",
   "execution_count": 2,
   "metadata": {},
   "outputs": [
    {
     "data": {
      "text/plain": [
       "A    1\n",
       "B    2\n",
       "C    3\n",
       "D    4\n",
       "dtype: int64"
      ]
     },
     "execution_count": 2,
     "metadata": {},
     "output_type": "execute_result"
    }
   ],
   "source": [
    "ser1 = Series([1,2,3,4], index=['A','B','C','D'])\n",
    "ser1"
   ]
  },
  {
   "cell_type": "code",
   "execution_count": 5,
   "metadata": {},
   "outputs": [
    {
     "data": {
      "text/plain": [
       "A    1.0\n",
       "B    2.0\n",
       "C    3.0\n",
       "D    4.0\n",
       "E    NaN\n",
       "F    NaN\n",
       "dtype: float64"
      ]
     },
     "execution_count": 5,
     "metadata": {},
     "output_type": "execute_result"
    }
   ],
   "source": [
    "new_index = ['A','B','C','D','E','F']\n",
    "ser2 = ser1.reindex(new_index)\n",
    "ser2"
   ]
  },
  {
   "cell_type": "code",
   "execution_count": 7,
   "metadata": {},
   "outputs": [
    {
     "data": {
      "text/plain": [
       "A    1.0\n",
       "B    2.0\n",
       "C    3.0\n",
       "D    4.0\n",
       "E    NaN\n",
       "F    NaN\n",
       "G    0.0\n",
       "H    0.0\n",
       "dtype: float64"
      ]
     },
     "execution_count": 7,
     "metadata": {},
     "output_type": "execute_result"
    }
   ],
   "source": [
    "# Set default value except for NaN\n",
    "new_index = ['A','B','C','D','E','F','G','H']\n",
    "ser3 = ser2.reindex(new_index, fill_value=0)\n",
    "ser3"
   ]
  },
  {
   "cell_type": "code",
   "execution_count": 8,
   "metadata": {},
   "outputs": [
    {
     "data": {
      "text/plain": [
       "0        USA\n",
       "5     Maxico\n",
       "10    Canada\n",
       "dtype: object"
      ]
     },
     "execution_count": 8,
     "metadata": {},
     "output_type": "execute_result"
    }
   ],
   "source": [
    "# Filling previous values\n",
    "ser3 = Series(['USA','Maxico','Canada'], index=[0,5,10])\n",
    "ser3"
   ]
  },
  {
   "cell_type": "code",
   "execution_count": 10,
   "metadata": {},
   "outputs": [
    {
     "data": {
      "text/plain": [
       "range(0, 15)"
      ]
     },
     "execution_count": 10,
     "metadata": {},
     "output_type": "execute_result"
    }
   ],
   "source": [
    "ranger = range(15)\n",
    "ranger"
   ]
  },
  {
   "cell_type": "code",
   "execution_count": 13,
   "metadata": {},
   "outputs": [
    {
     "data": {
      "text/plain": [
       "0        USA\n",
       "1        USA\n",
       "2        USA\n",
       "3        USA\n",
       "4        USA\n",
       "5     Maxico\n",
       "6     Maxico\n",
       "7     Maxico\n",
       "8     Maxico\n",
       "9     Maxico\n",
       "10    Canada\n",
       "11    Canada\n",
       "12    Canada\n",
       "13    Canada\n",
       "14    Canada\n",
       "dtype: object"
      ]
     },
     "execution_count": 13,
     "metadata": {},
     "output_type": "execute_result"
    }
   ],
   "source": [
    "# The above method will take the previous index value and it will store into the NaN values untill it hits a value\n",
    "ser3.reindex(ranger, method='ffill')"
   ]
  },
  {
   "cell_type": "code",
   "execution_count": 21,
   "metadata": {},
   "outputs": [
    {
     "data": {
      "text/html": [
       "<div>\n",
       "<style>\n",
       "    .dataframe thead tr:only-child th {\n",
       "        text-align: right;\n",
       "    }\n",
       "\n",
       "    .dataframe thead th {\n",
       "        text-align: left;\n",
       "    }\n",
       "\n",
       "    .dataframe tbody tr th {\n",
       "        vertical-align: top;\n",
       "    }\n",
       "</style>\n",
       "<table border=\"1\" class=\"dataframe\">\n",
       "  <thead>\n",
       "    <tr style=\"text-align: right;\">\n",
       "      <th></th>\n",
       "      <th>col1</th>\n",
       "      <th>col2</th>\n",
       "      <th>col3</th>\n",
       "      <th>col4</th>\n",
       "      <th>col5</th>\n",
       "    </tr>\n",
       "  </thead>\n",
       "  <tbody>\n",
       "    <tr>\n",
       "      <th>A</th>\n",
       "      <td>-0.571273</td>\n",
       "      <td>0.174314</td>\n",
       "      <td>-0.300956</td>\n",
       "      <td>-0.681753</td>\n",
       "      <td>0.126236</td>\n",
       "    </tr>\n",
       "    <tr>\n",
       "      <th>B</th>\n",
       "      <td>-0.050437</td>\n",
       "      <td>0.006080</td>\n",
       "      <td>-0.535463</td>\n",
       "      <td>0.583345</td>\n",
       "      <td>0.646956</td>\n",
       "    </tr>\n",
       "    <tr>\n",
       "      <th>D</th>\n",
       "      <td>-3.143750</td>\n",
       "      <td>0.270605</td>\n",
       "      <td>-1.371964</td>\n",
       "      <td>0.036040</td>\n",
       "      <td>-0.541971</td>\n",
       "    </tr>\n",
       "    <tr>\n",
       "      <th>E</th>\n",
       "      <td>0.448206</td>\n",
       "      <td>-0.127793</td>\n",
       "      <td>-1.087207</td>\n",
       "      <td>0.112038</td>\n",
       "      <td>-1.413903</td>\n",
       "    </tr>\n",
       "    <tr>\n",
       "      <th>F</th>\n",
       "      <td>1.738165</td>\n",
       "      <td>-1.231178</td>\n",
       "      <td>0.949662</td>\n",
       "      <td>-1.953813</td>\n",
       "      <td>1.542758</td>\n",
       "    </tr>\n",
       "  </tbody>\n",
       "</table>\n",
       "</div>"
      ],
      "text/plain": [
       "       col1      col2      col3      col4      col5\n",
       "A -0.571273  0.174314 -0.300956 -0.681753  0.126236\n",
       "B -0.050437  0.006080 -0.535463  0.583345  0.646956\n",
       "D -3.143750  0.270605 -1.371964  0.036040 -0.541971\n",
       "E  0.448206 -0.127793 -1.087207  0.112038 -1.413903\n",
       "F  1.738165 -1.231178  0.949662 -1.953813  1.542758"
      ]
     },
     "execution_count": 21,
     "metadata": {},
     "output_type": "execute_result"
    }
   ],
   "source": [
    "# Creating data frame\n",
    "dframe = DataFrame(np.random.randn(25).reshape((5,5)), index=['A','B','D','E','F'], columns=['col1', 'col2', 'col3', 'col4', 'col5'])\n",
    "dframe"
   ]
  },
  {
   "cell_type": "code",
   "execution_count": 23,
   "metadata": {},
   "outputs": [
    {
     "data": {
      "text/html": [
       "<div>\n",
       "<style>\n",
       "    .dataframe thead tr:only-child th {\n",
       "        text-align: right;\n",
       "    }\n",
       "\n",
       "    .dataframe thead th {\n",
       "        text-align: left;\n",
       "    }\n",
       "\n",
       "    .dataframe tbody tr th {\n",
       "        vertical-align: top;\n",
       "    }\n",
       "</style>\n",
       "<table border=\"1\" class=\"dataframe\">\n",
       "  <thead>\n",
       "    <tr style=\"text-align: right;\">\n",
       "      <th></th>\n",
       "      <th>col1</th>\n",
       "      <th>col2</th>\n",
       "      <th>col3</th>\n",
       "      <th>col4</th>\n",
       "      <th>col5</th>\n",
       "    </tr>\n",
       "  </thead>\n",
       "  <tbody>\n",
       "    <tr>\n",
       "      <th>A</th>\n",
       "      <td>-0.571273</td>\n",
       "      <td>0.174314</td>\n",
       "      <td>-0.300956</td>\n",
       "      <td>-0.681753</td>\n",
       "      <td>0.126236</td>\n",
       "    </tr>\n",
       "    <tr>\n",
       "      <th>B</th>\n",
       "      <td>-0.050437</td>\n",
       "      <td>0.006080</td>\n",
       "      <td>-0.535463</td>\n",
       "      <td>0.583345</td>\n",
       "      <td>0.646956</td>\n",
       "    </tr>\n",
       "    <tr>\n",
       "      <th>C</th>\n",
       "      <td>NaN</td>\n",
       "      <td>NaN</td>\n",
       "      <td>NaN</td>\n",
       "      <td>NaN</td>\n",
       "      <td>NaN</td>\n",
       "    </tr>\n",
       "    <tr>\n",
       "      <th>D</th>\n",
       "      <td>-3.143750</td>\n",
       "      <td>0.270605</td>\n",
       "      <td>-1.371964</td>\n",
       "      <td>0.036040</td>\n",
       "      <td>-0.541971</td>\n",
       "    </tr>\n",
       "    <tr>\n",
       "      <th>E</th>\n",
       "      <td>0.448206</td>\n",
       "      <td>-0.127793</td>\n",
       "      <td>-1.087207</td>\n",
       "      <td>0.112038</td>\n",
       "      <td>-1.413903</td>\n",
       "    </tr>\n",
       "    <tr>\n",
       "      <th>F</th>\n",
       "      <td>1.738165</td>\n",
       "      <td>-1.231178</td>\n",
       "      <td>0.949662</td>\n",
       "      <td>-1.953813</td>\n",
       "      <td>1.542758</td>\n",
       "    </tr>\n",
       "  </tbody>\n",
       "</table>\n",
       "</div>"
      ],
      "text/plain": [
       "       col1      col2      col3      col4      col5\n",
       "A -0.571273  0.174314 -0.300956 -0.681753  0.126236\n",
       "B -0.050437  0.006080 -0.535463  0.583345  0.646956\n",
       "C       NaN       NaN       NaN       NaN       NaN\n",
       "D -3.143750  0.270605 -1.371964  0.036040 -0.541971\n",
       "E  0.448206 -0.127793 -1.087207  0.112038 -1.413903\n",
       "F  1.738165 -1.231178  0.949662 -1.953813  1.542758"
      ]
     },
     "execution_count": 23,
     "metadata": {},
     "output_type": "execute_result"
    }
   ],
   "source": [
    "dframe2 = dframe.reindex(['A','B','C','D','E','F'])\n",
    "dframe2"
   ]
  },
  {
   "cell_type": "code",
   "execution_count": 24,
   "metadata": {},
   "outputs": [
    {
     "data": {
      "text/html": [
       "<div>\n",
       "<style>\n",
       "    .dataframe thead tr:only-child th {\n",
       "        text-align: right;\n",
       "    }\n",
       "\n",
       "    .dataframe thead th {\n",
       "        text-align: left;\n",
       "    }\n",
       "\n",
       "    .dataframe tbody tr th {\n",
       "        vertical-align: top;\n",
       "    }\n",
       "</style>\n",
       "<table border=\"1\" class=\"dataframe\">\n",
       "  <thead>\n",
       "    <tr style=\"text-align: right;\">\n",
       "      <th></th>\n",
       "      <th>col1</th>\n",
       "      <th>col2</th>\n",
       "      <th>col3</th>\n",
       "      <th>col4</th>\n",
       "      <th>col5</th>\n",
       "      <th>col6</th>\n",
       "    </tr>\n",
       "  </thead>\n",
       "  <tbody>\n",
       "    <tr>\n",
       "      <th>A</th>\n",
       "      <td>-0.571273</td>\n",
       "      <td>0.174314</td>\n",
       "      <td>-0.300956</td>\n",
       "      <td>-0.681753</td>\n",
       "      <td>0.126236</td>\n",
       "      <td>NaN</td>\n",
       "    </tr>\n",
       "    <tr>\n",
       "      <th>B</th>\n",
       "      <td>-0.050437</td>\n",
       "      <td>0.006080</td>\n",
       "      <td>-0.535463</td>\n",
       "      <td>0.583345</td>\n",
       "      <td>0.646956</td>\n",
       "      <td>NaN</td>\n",
       "    </tr>\n",
       "    <tr>\n",
       "      <th>C</th>\n",
       "      <td>NaN</td>\n",
       "      <td>NaN</td>\n",
       "      <td>NaN</td>\n",
       "      <td>NaN</td>\n",
       "      <td>NaN</td>\n",
       "      <td>NaN</td>\n",
       "    </tr>\n",
       "    <tr>\n",
       "      <th>D</th>\n",
       "      <td>-3.143750</td>\n",
       "      <td>0.270605</td>\n",
       "      <td>-1.371964</td>\n",
       "      <td>0.036040</td>\n",
       "      <td>-0.541971</td>\n",
       "      <td>NaN</td>\n",
       "    </tr>\n",
       "    <tr>\n",
       "      <th>E</th>\n",
       "      <td>0.448206</td>\n",
       "      <td>-0.127793</td>\n",
       "      <td>-1.087207</td>\n",
       "      <td>0.112038</td>\n",
       "      <td>-1.413903</td>\n",
       "      <td>NaN</td>\n",
       "    </tr>\n",
       "    <tr>\n",
       "      <th>F</th>\n",
       "      <td>1.738165</td>\n",
       "      <td>-1.231178</td>\n",
       "      <td>0.949662</td>\n",
       "      <td>-1.953813</td>\n",
       "      <td>1.542758</td>\n",
       "      <td>NaN</td>\n",
       "    </tr>\n",
       "  </tbody>\n",
       "</table>\n",
       "</div>"
      ],
      "text/plain": [
       "       col1      col2      col3      col4      col5  col6\n",
       "A -0.571273  0.174314 -0.300956 -0.681753  0.126236   NaN\n",
       "B -0.050437  0.006080 -0.535463  0.583345  0.646956   NaN\n",
       "C       NaN       NaN       NaN       NaN       NaN   NaN\n",
       "D -3.143750  0.270605 -1.371964  0.036040 -0.541971   NaN\n",
       "E  0.448206 -0.127793 -1.087207  0.112038 -1.413903   NaN\n",
       "F  1.738165 -1.231178  0.949662 -1.953813  1.542758   NaN"
      ]
     },
     "execution_count": 24,
     "metadata": {},
     "output_type": "execute_result"
    }
   ],
   "source": [
    "new_columns = ['col1','col2','col3','col4','col5','col6']\n",
    "dframe2.reindex(columns=new_columns)"
   ]
  },
  {
   "cell_type": "code",
   "execution_count": 25,
   "metadata": {},
   "outputs": [
    {
     "data": {
      "text/html": [
       "<div>\n",
       "<style>\n",
       "    .dataframe thead tr:only-child th {\n",
       "        text-align: right;\n",
       "    }\n",
       "\n",
       "    .dataframe thead th {\n",
       "        text-align: left;\n",
       "    }\n",
       "\n",
       "    .dataframe tbody tr th {\n",
       "        vertical-align: top;\n",
       "    }\n",
       "</style>\n",
       "<table border=\"1\" class=\"dataframe\">\n",
       "  <thead>\n",
       "    <tr style=\"text-align: right;\">\n",
       "      <th></th>\n",
       "      <th>col1</th>\n",
       "      <th>col2</th>\n",
       "      <th>col3</th>\n",
       "      <th>col4</th>\n",
       "      <th>col5</th>\n",
       "    </tr>\n",
       "  </thead>\n",
       "  <tbody>\n",
       "    <tr>\n",
       "      <th>A</th>\n",
       "      <td>-0.571273</td>\n",
       "      <td>0.174314</td>\n",
       "      <td>-0.300956</td>\n",
       "      <td>-0.681753</td>\n",
       "      <td>0.126236</td>\n",
       "    </tr>\n",
       "    <tr>\n",
       "      <th>B</th>\n",
       "      <td>-0.050437</td>\n",
       "      <td>0.006080</td>\n",
       "      <td>-0.535463</td>\n",
       "      <td>0.583345</td>\n",
       "      <td>0.646956</td>\n",
       "    </tr>\n",
       "    <tr>\n",
       "      <th>D</th>\n",
       "      <td>-3.143750</td>\n",
       "      <td>0.270605</td>\n",
       "      <td>-1.371964</td>\n",
       "      <td>0.036040</td>\n",
       "      <td>-0.541971</td>\n",
       "    </tr>\n",
       "    <tr>\n",
       "      <th>E</th>\n",
       "      <td>0.448206</td>\n",
       "      <td>-0.127793</td>\n",
       "      <td>-1.087207</td>\n",
       "      <td>0.112038</td>\n",
       "      <td>-1.413903</td>\n",
       "    </tr>\n",
       "    <tr>\n",
       "      <th>F</th>\n",
       "      <td>1.738165</td>\n",
       "      <td>-1.231178</td>\n",
       "      <td>0.949662</td>\n",
       "      <td>-1.953813</td>\n",
       "      <td>1.542758</td>\n",
       "    </tr>\n",
       "  </tbody>\n",
       "</table>\n",
       "</div>"
      ],
      "text/plain": [
       "       col1      col2      col3      col4      col5\n",
       "A -0.571273  0.174314 -0.300956 -0.681753  0.126236\n",
       "B -0.050437  0.006080 -0.535463  0.583345  0.646956\n",
       "D -3.143750  0.270605 -1.371964  0.036040 -0.541971\n",
       "E  0.448206 -0.127793 -1.087207  0.112038 -1.413903\n",
       "F  1.738165 -1.231178  0.949662 -1.953813  1.542758"
      ]
     },
     "execution_count": 25,
     "metadata": {},
     "output_type": "execute_result"
    }
   ],
   "source": [
    "dframe"
   ]
  },
  {
   "cell_type": "code",
   "execution_count": 28,
   "metadata": {},
   "outputs": [
    {
     "data": {
      "text/html": [
       "<div>\n",
       "<style>\n",
       "    .dataframe thead tr:only-child th {\n",
       "        text-align: right;\n",
       "    }\n",
       "\n",
       "    .dataframe thead th {\n",
       "        text-align: left;\n",
       "    }\n",
       "\n",
       "    .dataframe tbody tr th {\n",
       "        vertical-align: top;\n",
       "    }\n",
       "</style>\n",
       "<table border=\"1\" class=\"dataframe\">\n",
       "  <thead>\n",
       "    <tr style=\"text-align: right;\">\n",
       "      <th></th>\n",
       "      <th>col1</th>\n",
       "      <th>col2</th>\n",
       "      <th>col3</th>\n",
       "      <th>col4</th>\n",
       "      <th>col5</th>\n",
       "      <th>col6</th>\n",
       "    </tr>\n",
       "  </thead>\n",
       "  <tbody>\n",
       "    <tr>\n",
       "      <th>A</th>\n",
       "      <td>-0.571273</td>\n",
       "      <td>0.174314</td>\n",
       "      <td>-0.300956</td>\n",
       "      <td>-0.681753</td>\n",
       "      <td>0.126236</td>\n",
       "      <td>NaN</td>\n",
       "    </tr>\n",
       "    <tr>\n",
       "      <th>B</th>\n",
       "      <td>-0.050437</td>\n",
       "      <td>0.006080</td>\n",
       "      <td>-0.535463</td>\n",
       "      <td>0.583345</td>\n",
       "      <td>0.646956</td>\n",
       "      <td>NaN</td>\n",
       "    </tr>\n",
       "    <tr>\n",
       "      <th>C</th>\n",
       "      <td>NaN</td>\n",
       "      <td>NaN</td>\n",
       "      <td>NaN</td>\n",
       "      <td>NaN</td>\n",
       "      <td>NaN</td>\n",
       "      <td>NaN</td>\n",
       "    </tr>\n",
       "    <tr>\n",
       "      <th>D</th>\n",
       "      <td>-3.143750</td>\n",
       "      <td>0.270605</td>\n",
       "      <td>-1.371964</td>\n",
       "      <td>0.036040</td>\n",
       "      <td>-0.541971</td>\n",
       "      <td>NaN</td>\n",
       "    </tr>\n",
       "    <tr>\n",
       "      <th>E</th>\n",
       "      <td>0.448206</td>\n",
       "      <td>-0.127793</td>\n",
       "      <td>-1.087207</td>\n",
       "      <td>0.112038</td>\n",
       "      <td>-1.413903</td>\n",
       "      <td>NaN</td>\n",
       "    </tr>\n",
       "    <tr>\n",
       "      <th>F</th>\n",
       "      <td>1.738165</td>\n",
       "      <td>-1.231178</td>\n",
       "      <td>0.949662</td>\n",
       "      <td>-1.953813</td>\n",
       "      <td>1.542758</td>\n",
       "      <td>NaN</td>\n",
       "    </tr>\n",
       "  </tbody>\n",
       "</table>\n",
       "</div>"
      ],
      "text/plain": [
       "       col1      col2      col3      col4      col5  col6\n",
       "A -0.571273  0.174314 -0.300956 -0.681753  0.126236   NaN\n",
       "B -0.050437  0.006080 -0.535463  0.583345  0.646956   NaN\n",
       "C       NaN       NaN       NaN       NaN       NaN   NaN\n",
       "D -3.143750  0.270605 -1.371964  0.036040 -0.541971   NaN\n",
       "E  0.448206 -0.127793 -1.087207  0.112038 -1.413903   NaN\n",
       "F  1.738165 -1.231178  0.949662 -1.953813  1.542758   NaN"
      ]
     },
     "execution_count": 28,
     "metadata": {},
     "output_type": "execute_result"
    }
   ],
   "source": [
    "# The below way is a simple way instead of reindexing everything\n",
    "dframe.ix[['A','B','C','D','E','F'], new_columns]"
   ]
  },
  {
   "cell_type": "code",
   "execution_count": null,
   "metadata": {
    "collapsed": true
   },
   "outputs": [],
   "source": []
  }
 ],
 "metadata": {
  "kernelspec": {
   "display_name": "Python 3",
   "language": "python",
   "name": "python3"
  },
  "language_info": {
   "codemirror_mode": {
    "name": "ipython",
    "version": 3
   },
   "file_extension": ".py",
   "mimetype": "text/x-python",
   "name": "python",
   "nbconvert_exporter": "python",
   "pygments_lexer": "ipython3",
   "version": "3.6.2"
  }
 },
 "nbformat": 4,
 "nbformat_minor": 2
}
